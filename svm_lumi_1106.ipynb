{
 "cells": [
  {
   "cell_type": "code",
   "execution_count": null,
   "id": "initial_id",
   "metadata": {
    "collapsed": true,
    "is_executing": true
   },
   "outputs": [],
   "source": [
    "import os\n",
    "import numpy as np\n",
    "import sklearn\n",
    "from skimage.io import imread\n",
    "from skimage.transform import resize"
   ]
  },
  {
   "cell_type": "code",
   "execution_count": null,
   "outputs": [],
   "source": [
    "def load_images(folder):\n",
    "    images = []\n",
    "    for filename in os.listdir(folder):\n",
    "        if filename.endswith('.jpg'):\n",
    "            img = imread(os.path.join(folder, filename))\n",
    "            img = resize(img, (64, 64))\n",
    "            images.append(img)\n",
    "    return np.asarray(images)"
   ],
   "metadata": {
    "collapsed": false,
    "is_executing": true
   },
   "id": "5ae27c50a40ca396"
  },
  {
   "cell_type": "code",
   "execution_count": null,
   "outputs": [],
   "source": [
    "natural_images = load_images('./dataset/natural_training/')\n",
    "manmade_images = load_images('./dataset/manmade_training/')\n",
    "\n",
    "natural_labels = np.zeros(len(natural_images))\n",
    "manmade_labels = np.ones(len(manmade_images))\n",
    "\n",
    "X_train = np.concatenate((natural_images, manmade_images))\n",
    "y_train = np.concatenate((natural_labels, manmade_labels))\n",
    "\n",
    "print(f\"Number of natural images: {len(natural_images)}\")\n",
    "print(f\"Number of manmade images: {len(manmade_images)}\")\n",
    "print(f\"Shape of X_train: {X_train.shape}\")\n",
    "print(f\"Shape of y_train: {y_train.shape}\")"
   ],
   "metadata": {
    "collapsed": false,
    "is_executing": true
   },
   "id": "883d6d57225afff6"
  },
  {
   "cell_type": "code",
   "execution_count": null,
   "outputs": [],
   "source": [
    "svm_classifier = sklearn.svm.SVC(kernel='linear')"
   ],
   "metadata": {
    "collapsed": false,
    "is_executing": true
   },
   "id": "29c4ea375609f201"
  }
 ],
 "metadata": {
  "kernelspec": {
   "display_name": "Python 3",
   "language": "python",
   "name": "python3"
  },
  "language_info": {
   "codemirror_mode": {
    "name": "ipython",
    "version": 2
   },
   "file_extension": ".py",
   "mimetype": "text/x-python",
   "name": "python",
   "nbconvert_exporter": "python",
   "pygments_lexer": "ipython2",
   "version": "2.7.6"
  }
 },
 "nbformat": 4,
 "nbformat_minor": 5
}

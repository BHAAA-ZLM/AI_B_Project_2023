{
 "cells": [
  {
   "cell_type": "code",
   "execution_count": 4,
   "metadata": {},
   "outputs": [],
   "source": [
    "import os\n",
    "import cv2\n",
    "import numpy as np\n",
    "from sklearn.cluster import KMeans\n",
    "from sklearn.svm import SVC\n",
    "from sklearn.metrics import accuracy_score\n",
    "from sklearn.model_selection import train_test_split\n",
    "from sklearn.preprocessing import StandardScaler\n",
    "\n",
    "def extract_features(image, detector):\n",
    "    if image is None:\n",
    "        return None, None\n",
    "    keypoints, descriptors = detector.detectAndCompute(image, None)\n",
    "    return keypoints, descriptors\n",
    "\n",
    "feature_detector = cv2.SIFT_create()\n",
    "\n",
    "all_keypoints = []\n",
    "all_descriptors = []\n",
    "labels = []"
   ]
  },
  {
   "cell_type": "code",
   "execution_count": 5,
   "metadata": {},
   "outputs": [
    {
     "name": "stderr",
     "output_type": "stream",
     "text": [
      "libpng warning: iCCP: known incorrect sRGB profile\n"
     ]
    }
   ],
   "source": [
    "\n",
    "natural_image_paths = os.listdir('./dataset/natural_training')\n",
    "for path in natural_image_paths:\n",
    "    image = cv2.imread('./dataset/natural_training/' + path)\n",
    "    keypoints, descriptors = extract_features(image, feature_detector)\n",
    "    if descriptors is not None:\n",
    "        all_keypoints.extend(keypoints)\n",
    "        all_descriptors.append(descriptors)\n",
    "        labels.append(0) \n",
    "\n",
    "manmade_image_paths = os.listdir('./dataset/manmade_training')\n",
    "for path in manmade_image_paths:\n",
    "    image = cv2.imread('./dataset/manmade_training/' + path)\n",
    "    keypoints, descriptors = extract_features(image, feature_detector)\n",
    "    if descriptors is not None:\n",
    "        all_keypoints.extend(keypoints)\n",
    "        all_descriptors.append(descriptors)\n",
    "        labels.append(1) "
   ]
  },
  {
   "cell_type": "code",
   "execution_count": null,
   "metadata": {},
   "outputs": [
    {
     "name": "stderr",
     "output_type": "stream",
     "text": [
      "/Users/lumizhang/miniconda3/lib/python3.10/site-packages/sklearn/cluster/_kmeans.py:1416: FutureWarning: The default value of `n_init` will change from 10 to 'auto' in 1.4. Set the value of `n_init` explicitly to suppress the warning\n",
      "  super()._check_params_vs_input(X, default_n_init=10)\n"
     ]
    },
    {
     "ename": "KeyboardInterrupt",
     "evalue": "",
     "output_type": "error",
     "traceback": [
      "\u001b[0;31m---------------------------------------------------------------------------\u001b[0m",
      "\u001b[0;31mKeyboardInterrupt\u001b[0m                         Traceback (most recent call last)",
      "\u001b[1;32m/Users/lumizhang/Documents/GitHub/AI_B_Project_2023/BoW_b_lumi_1109.ipynb Cell 3\u001b[0m line \u001b[0;36m6\n\u001b[1;32m      <a href='vscode-notebook-cell:/Users/lumizhang/Documents/GitHub/AI_B_Project_2023/BoW_b_lumi_1109.ipynb#W2sZmlsZQ%3D%3D?line=3'>4</a>\u001b[0m num_clusters \u001b[39m=\u001b[39m \u001b[39m100\u001b[39m\n\u001b[1;32m      <a href='vscode-notebook-cell:/Users/lumizhang/Documents/GitHub/AI_B_Project_2023/BoW_b_lumi_1109.ipynb#W2sZmlsZQ%3D%3D?line=4'>5</a>\u001b[0m kmeans \u001b[39m=\u001b[39m KMeans(n_clusters\u001b[39m=\u001b[39mnum_clusters, random_state\u001b[39m=\u001b[39m\u001b[39m0\u001b[39m)\n\u001b[0;32m----> <a href='vscode-notebook-cell:/Users/lumizhang/Documents/GitHub/AI_B_Project_2023/BoW_b_lumi_1109.ipynb#W2sZmlsZQ%3D%3D?line=5'>6</a>\u001b[0m kmeans\u001b[39m.\u001b[39;49mfit(all_descriptors)\n",
      "File \u001b[0;32m~/miniconda3/lib/python3.10/site-packages/sklearn/base.py:1152\u001b[0m, in \u001b[0;36m_fit_context.<locals>.decorator.<locals>.wrapper\u001b[0;34m(estimator, *args, **kwargs)\u001b[0m\n\u001b[1;32m   1145\u001b[0m     estimator\u001b[39m.\u001b[39m_validate_params()\n\u001b[1;32m   1147\u001b[0m \u001b[39mwith\u001b[39;00m config_context(\n\u001b[1;32m   1148\u001b[0m     skip_parameter_validation\u001b[39m=\u001b[39m(\n\u001b[1;32m   1149\u001b[0m         prefer_skip_nested_validation \u001b[39mor\u001b[39;00m global_skip_validation\n\u001b[1;32m   1150\u001b[0m     )\n\u001b[1;32m   1151\u001b[0m ):\n\u001b[0;32m-> 1152\u001b[0m     \u001b[39mreturn\u001b[39;00m fit_method(estimator, \u001b[39m*\u001b[39;49margs, \u001b[39m*\u001b[39;49m\u001b[39m*\u001b[39;49mkwargs)\n",
      "File \u001b[0;32m~/miniconda3/lib/python3.10/site-packages/sklearn/cluster/_kmeans.py:1519\u001b[0m, in \u001b[0;36mKMeans.fit\u001b[0;34m(self, X, y, sample_weight)\u001b[0m\n\u001b[1;32m   1515\u001b[0m best_inertia, best_labels \u001b[39m=\u001b[39m \u001b[39mNone\u001b[39;00m, \u001b[39mNone\u001b[39;00m\n\u001b[1;32m   1517\u001b[0m \u001b[39mfor\u001b[39;00m i \u001b[39min\u001b[39;00m \u001b[39mrange\u001b[39m(\u001b[39mself\u001b[39m\u001b[39m.\u001b[39m_n_init):\n\u001b[1;32m   1518\u001b[0m     \u001b[39m# Initialize centers\u001b[39;00m\n\u001b[0;32m-> 1519\u001b[0m     centers_init \u001b[39m=\u001b[39m \u001b[39mself\u001b[39;49m\u001b[39m.\u001b[39;49m_init_centroids(\n\u001b[1;32m   1520\u001b[0m         X,\n\u001b[1;32m   1521\u001b[0m         x_squared_norms\u001b[39m=\u001b[39;49mx_squared_norms,\n\u001b[1;32m   1522\u001b[0m         init\u001b[39m=\u001b[39;49minit,\n\u001b[1;32m   1523\u001b[0m         random_state\u001b[39m=\u001b[39;49mrandom_state,\n\u001b[1;32m   1524\u001b[0m         sample_weight\u001b[39m=\u001b[39;49msample_weight,\n\u001b[1;32m   1525\u001b[0m     )\n\u001b[1;32m   1526\u001b[0m     \u001b[39mif\u001b[39;00m \u001b[39mself\u001b[39m\u001b[39m.\u001b[39mverbose:\n\u001b[1;32m   1527\u001b[0m         \u001b[39mprint\u001b[39m(\u001b[39m\"\u001b[39m\u001b[39mInitialization complete\u001b[39m\u001b[39m\"\u001b[39m)\n",
      "File \u001b[0;32m~/miniconda3/lib/python3.10/site-packages/sklearn/cluster/_kmeans.py:1019\u001b[0m, in \u001b[0;36m_BaseKMeans._init_centroids\u001b[0;34m(self, X, x_squared_norms, init, random_state, sample_weight, init_size, n_centroids)\u001b[0m\n\u001b[1;32m   1016\u001b[0m     sample_weight \u001b[39m=\u001b[39m sample_weight[init_indices]\n\u001b[1;32m   1018\u001b[0m \u001b[39mif\u001b[39;00m \u001b[39misinstance\u001b[39m(init, \u001b[39mstr\u001b[39m) \u001b[39mand\u001b[39;00m init \u001b[39m==\u001b[39m \u001b[39m\"\u001b[39m\u001b[39mk-means++\u001b[39m\u001b[39m\"\u001b[39m:\n\u001b[0;32m-> 1019\u001b[0m     centers, _ \u001b[39m=\u001b[39m _kmeans_plusplus(\n\u001b[1;32m   1020\u001b[0m         X,\n\u001b[1;32m   1021\u001b[0m         n_clusters,\n\u001b[1;32m   1022\u001b[0m         random_state\u001b[39m=\u001b[39;49mrandom_state,\n\u001b[1;32m   1023\u001b[0m         x_squared_norms\u001b[39m=\u001b[39;49mx_squared_norms,\n\u001b[1;32m   1024\u001b[0m         sample_weight\u001b[39m=\u001b[39;49msample_weight,\n\u001b[1;32m   1025\u001b[0m     )\n\u001b[1;32m   1026\u001b[0m \u001b[39melif\u001b[39;00m \u001b[39misinstance\u001b[39m(init, \u001b[39mstr\u001b[39m) \u001b[39mand\u001b[39;00m init \u001b[39m==\u001b[39m \u001b[39m\"\u001b[39m\u001b[39mrandom\u001b[39m\u001b[39m\"\u001b[39m:\n\u001b[1;32m   1027\u001b[0m     seeds \u001b[39m=\u001b[39m random_state\u001b[39m.\u001b[39mchoice(\n\u001b[1;32m   1028\u001b[0m         n_samples,\n\u001b[1;32m   1029\u001b[0m         size\u001b[39m=\u001b[39mn_clusters,\n\u001b[1;32m   1030\u001b[0m         replace\u001b[39m=\u001b[39m\u001b[39mFalse\u001b[39;00m,\n\u001b[1;32m   1031\u001b[0m         p\u001b[39m=\u001b[39msample_weight \u001b[39m/\u001b[39m sample_weight\u001b[39m.\u001b[39msum(),\n\u001b[1;32m   1032\u001b[0m     )\n",
      "File \u001b[0;32m~/miniconda3/lib/python3.10/site-packages/sklearn/cluster/_kmeans.py:255\u001b[0m, in \u001b[0;36m_kmeans_plusplus\u001b[0;34m(X, n_clusters, x_squared_norms, sample_weight, random_state, n_local_trials)\u001b[0m\n\u001b[1;32m    252\u001b[0m np\u001b[39m.\u001b[39mclip(candidate_ids, \u001b[39mNone\u001b[39;00m, closest_dist_sq\u001b[39m.\u001b[39msize \u001b[39m-\u001b[39m \u001b[39m1\u001b[39m, out\u001b[39m=\u001b[39mcandidate_ids)\n\u001b[1;32m    254\u001b[0m \u001b[39m# Compute distances to center candidates\u001b[39;00m\n\u001b[0;32m--> 255\u001b[0m distance_to_candidates \u001b[39m=\u001b[39m _euclidean_distances(\n\u001b[1;32m    256\u001b[0m     X[candidate_ids], X, Y_norm_squared\u001b[39m=\u001b[39;49mx_squared_norms, squared\u001b[39m=\u001b[39;49m\u001b[39mTrue\u001b[39;49;00m\n\u001b[1;32m    257\u001b[0m )\n\u001b[1;32m    259\u001b[0m \u001b[39m# update closest distances squared and potential for each candidate\u001b[39;00m\n\u001b[1;32m    260\u001b[0m np\u001b[39m.\u001b[39mminimum(closest_dist_sq, distance_to_candidates, out\u001b[39m=\u001b[39mdistance_to_candidates)\n",
      "File \u001b[0;32m~/miniconda3/lib/python3.10/site-packages/sklearn/metrics/pairwise.py:376\u001b[0m, in \u001b[0;36m_euclidean_distances\u001b[0;34m(X, Y, X_norm_squared, Y_norm_squared, squared)\u001b[0m\n\u001b[1;32m    371\u001b[0m         YY \u001b[39m=\u001b[39m row_norms(Y, squared\u001b[39m=\u001b[39m\u001b[39mTrue\u001b[39;00m)[np\u001b[39m.\u001b[39mnewaxis, :]\n\u001b[1;32m    373\u001b[0m \u001b[39mif\u001b[39;00m X\u001b[39m.\u001b[39mdtype \u001b[39m==\u001b[39m np\u001b[39m.\u001b[39mfloat32:\n\u001b[1;32m    374\u001b[0m     \u001b[39m# To minimize precision issues with float32, we compute the distance\u001b[39;00m\n\u001b[1;32m    375\u001b[0m     \u001b[39m# matrix on chunks of X and Y upcast to float64\u001b[39;00m\n\u001b[0;32m--> 376\u001b[0m     distances \u001b[39m=\u001b[39m _euclidean_distances_upcast(X, XX, Y, YY)\n\u001b[1;32m    377\u001b[0m \u001b[39melse\u001b[39;00m:\n\u001b[1;32m    378\u001b[0m     \u001b[39m# if dtype is already float64, no need to chunk and upcast\u001b[39;00m\n\u001b[1;32m    379\u001b[0m     distances \u001b[39m=\u001b[39m \u001b[39m-\u001b[39m\u001b[39m2\u001b[39m \u001b[39m*\u001b[39m safe_sparse_dot(X, Y\u001b[39m.\u001b[39mT, dense_output\u001b[39m=\u001b[39m\u001b[39mTrue\u001b[39;00m)\n",
      "File \u001b[0;32m~/miniconda3/lib/python3.10/site-packages/sklearn/metrics/pairwise.py:582\u001b[0m, in \u001b[0;36m_euclidean_distances_upcast\u001b[0;34m(X, XX, Y, YY, batch_size)\u001b[0m\n\u001b[1;32m    579\u001b[0m     d \u001b[39m=\u001b[39m distances[y_slice, x_slice]\u001b[39m.\u001b[39mT\n\u001b[1;32m    581\u001b[0m \u001b[39melse\u001b[39;00m:\n\u001b[0;32m--> 582\u001b[0m     Y_chunk \u001b[39m=\u001b[39m Y[y_slice]\u001b[39m.\u001b[39;49mastype(np\u001b[39m.\u001b[39;49mfloat64)\n\u001b[1;32m    583\u001b[0m     \u001b[39mif\u001b[39;00m YY \u001b[39mis\u001b[39;00m \u001b[39mNone\u001b[39;00m:\n\u001b[1;32m    584\u001b[0m         YY_chunk \u001b[39m=\u001b[39m row_norms(Y_chunk, squared\u001b[39m=\u001b[39m\u001b[39mTrue\u001b[39;00m)[np\u001b[39m.\u001b[39mnewaxis, :]\n",
      "\u001b[0;31mKeyboardInterrupt\u001b[0m: "
     ]
    },
    {
     "ename": "KeyboardInterrupt",
     "evalue": "",
     "output_type": "error",
     "traceback": [
      "\u001b[0;31m---------------------------------------------------------------------------\u001b[0m",
      "\u001b[0;31mKeyboardInterrupt\u001b[0m                         Traceback (most recent call last)",
      "\u001b[1;32m/Users/lumizhang/Documents/GitHub/AI_B_Project_2023/BoW_b_lumi_1109.ipynb Cell 3\u001b[0m line \u001b[0;36m2\n\u001b[1;32m      <a href='vscode-notebook-cell:/Users/lumizhang/Documents/GitHub/AI_B_Project_2023/BoW_b_lumi_1109.ipynb#W2sZmlsZQ%3D%3D?line=0'>1</a>\u001b[0m \u001b[39m# cluster all the descriptors\u001b[39;00m\n\u001b[0;32m----> <a href='vscode-notebook-cell:/Users/lumizhang/Documents/GitHub/AI_B_Project_2023/BoW_b_lumi_1109.ipynb#W2sZmlsZQ%3D%3D?line=1'>2</a>\u001b[0m all_descriptors \u001b[39m=\u001b[39m np\u001b[39m.\u001b[39;49mvstack(all_descriptors)\n\u001b[1;32m      <a href='vscode-notebook-cell:/Users/lumizhang/Documents/GitHub/AI_B_Project_2023/BoW_b_lumi_1109.ipynb#W2sZmlsZQ%3D%3D?line=3'>4</a>\u001b[0m num_clusters \u001b[39m=\u001b[39m \u001b[39m100\u001b[39m\n\u001b[1;32m      <a href='vscode-notebook-cell:/Users/lumizhang/Documents/GitHub/AI_B_Project_2023/BoW_b_lumi_1109.ipynb#W2sZmlsZQ%3D%3D?line=4'>5</a>\u001b[0m kmeans \u001b[39m=\u001b[39m KMeans(n_clusters\u001b[39m=\u001b[39mnum_clusters, random_state\u001b[39m=\u001b[39m\u001b[39m0\u001b[39m)\n",
      "File \u001b[0;32m<__array_function__ internals>:200\u001b[0m, in \u001b[0;36mvstack\u001b[0;34m(*args, **kwargs)\u001b[0m\n",
      "File \u001b[0;32m~/miniconda3/lib/python3.10/site-packages/numpy/core/shape_base.py:223\u001b[0m, in \u001b[0;36mvstack\u001b[0;34m(tup, dtype, casting)\u001b[0m\n\u001b[1;32m    218\u001b[0m \u001b[39mdef\u001b[39;00m \u001b[39m_vhstack_dispatcher\u001b[39m(tup, \u001b[39m*\u001b[39m, \n\u001b[1;32m    219\u001b[0m                         dtype\u001b[39m=\u001b[39m\u001b[39mNone\u001b[39;00m, casting\u001b[39m=\u001b[39m\u001b[39mNone\u001b[39;00m):\n\u001b[1;32m    220\u001b[0m     \u001b[39mreturn\u001b[39;00m _arrays_for_stack_dispatcher(tup)\n\u001b[0;32m--> 223\u001b[0m \u001b[39m@array_function_dispatch\u001b[39m(_vhstack_dispatcher)\n\u001b[1;32m    224\u001b[0m \u001b[39mdef\u001b[39;00m \u001b[39mvstack\u001b[39m(tup, \u001b[39m*\u001b[39m, dtype\u001b[39m=\u001b[39m\u001b[39mNone\u001b[39;00m, casting\u001b[39m=\u001b[39m\u001b[39m\"\u001b[39m\u001b[39msame_kind\u001b[39m\u001b[39m\"\u001b[39m):\n\u001b[1;32m    225\u001b[0m \u001b[39m    \u001b[39m\u001b[39m\"\"\"\u001b[39;00m\n\u001b[1;32m    226\u001b[0m \u001b[39m    Stack arrays in sequence vertically (row wise).\u001b[39;00m\n\u001b[1;32m    227\u001b[0m \n\u001b[0;32m   (...)\u001b[0m\n\u001b[1;32m    288\u001b[0m \n\u001b[1;32m    289\u001b[0m \u001b[39m    \"\"\"\u001b[39;00m\n\u001b[1;32m    290\u001b[0m     \u001b[39mif\u001b[39;00m \u001b[39mnot\u001b[39;00m overrides\u001b[39m.\u001b[39mARRAY_FUNCTION_ENABLED:\n\u001b[1;32m    291\u001b[0m         \u001b[39m# raise warning if necessary\u001b[39;00m\n",
      "\u001b[0;31mKeyboardInterrupt\u001b[0m: "
     ]
    }
   ],
   "source": [
    "# cluster all the descriptors\n",
    "all_descriptors = np.vstack(all_descriptors)\n",
    "\n",
    "num_clusters = 100\n",
    "kmeans = KMeans(n_clusters=num_clusters, random_state=0)\n",
    "kmeans.fit(all_descriptors)"
   ]
  },
  {
   "cell_type": "code",
   "execution_count": null,
   "metadata": {},
   "outputs": [],
   "source": [
    "histogram = np.zeros(num_clusters)\n",
    "bof_features = []\n",
    "for descriptors in all_descriptors:\n",
    "    cluster_labels = kmeans.predict([descriptors])\n",
    "    histogram[cluster_labels] += 1\n",
    "    if len(histogram) == num_clusters:\n",
    "        bof_features.append(histogram)\n",
    "        histogram = np.zeros(num_clusters)\n",
    "\n",
    "scaler = StandardScaler()\n",
    "bof_features = scaler.fit_transform(bof_features)"
   ]
  },
  {
   "cell_type": "code",
   "execution_count": null,
   "metadata": {},
   "outputs": [],
   "source": [
    "# Train an SVM classifier\n",
    "svm_classifier = SVC(C=1, kernel='linear', random_state=0)\n",
    "svm_classifier.fit(bof_features, labels)"
   ]
  },
  {
   "cell_type": "code",
   "execution_count": null,
   "metadata": {},
   "outputs": [],
   "source": [
    "\n",
    "y_pred = svm_classifier.predict(X_test)\n",
    "\n",
    "# Calculate accuracy\n",
    "accuracy = accuracy_score(y_test, y_pred)\n",
    "print(f\"Accuracy: {accuracy * 100:.2f}%\")"
   ]
  }
 ],
 "metadata": {
  "kernelspec": {
   "display_name": "base",
   "language": "python",
   "name": "python3"
  },
  "language_info": {
   "codemirror_mode": {
    "name": "ipython",
    "version": 3
   },
   "file_extension": ".py",
   "mimetype": "text/x-python",
   "name": "python",
   "nbconvert_exporter": "python",
   "pygments_lexer": "ipython3",
   "version": "3.10.8"
  }
 },
 "nbformat": 4,
 "nbformat_minor": 2
}
